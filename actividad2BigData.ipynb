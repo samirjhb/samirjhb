{
  "nbformat": 4,
  "nbformat_minor": 0,
  "metadata": {
    "colab": {
      "provenance": [],
      "authorship_tag": "ABX9TyOQeeLviMIaM6CkBoyDsFhl",
      "include_colab_link": true
    },
    "kernelspec": {
      "name": "python3",
      "display_name": "Python 3"
    },
    "language_info": {
      "name": "python"
    }
  },
  "cells": [
    {
      "cell_type": "markdown",
      "metadata": {
        "id": "view-in-github",
        "colab_type": "text"
      },
      "source": [
        "<a href=\"https://colab.research.google.com/github/samirjhb/samirjhb/blob/main/actividad2BigData.ipynb\" target=\"_parent\"><img src=\"https://colab.research.google.com/assets/colab-badge.svg\" alt=\"Open In Colab\"/></a>"
      ]
    },
    {
      "cell_type": "code",
      "execution_count": 1,
      "metadata": {
        "id": "3W_YtbN6d32y"
      },
      "outputs": [],
      "source": [
        "%%capture\n",
        "!pip install pyspark\n",
        "!pip install pyarrow"
      ]
    },
    {
      "cell_type": "code",
      "source": [
        "import pyspark\n",
        "sc =  pyspark.SparkContext(master=\"local[*]\", appName=\"ejemploRDD\")"
      ],
      "metadata": {
        "id": "cA663U-Ue5J9"
      },
      "execution_count": 2,
      "outputs": []
    },
    {
      "cell_type": "code",
      "source": [
        "sc.stop()"
      ],
      "metadata": {
        "id": "n37cM2KEfZuc"
      },
      "execution_count": null,
      "outputs": []
    },
    {
      "cell_type": "code",
      "source": [
        "sc.defaultParallelism"
      ],
      "metadata": {
        "colab": {
          "base_uri": "https://localhost:8080/"
        },
        "id": "rIG7JRoUfPAW",
        "outputId": "35b79846-3ee4-428d-8583-077edb9d4f2c"
      },
      "execution_count": 3,
      "outputs": [
        {
          "output_type": "execute_result",
          "data": {
            "text/plain": [
              "2"
            ]
          },
          "metadata": {},
          "execution_count": 3
        }
      ]
    },
    {
      "cell_type": "code",
      "source": [
        "data = list(range(8))\n",
        "rdd=sc.parallelize(data, 5)"
      ],
      "metadata": {
        "id": "ZhSNbBT5fd2N"
      },
      "execution_count": 7,
      "outputs": []
    },
    {
      "cell_type": "code",
      "source": [
        "rdd.getNumPartitions()"
      ],
      "metadata": {
        "colab": {
          "base_uri": "https://localhost:8080/"
        },
        "id": "EH1cA9TZgN8u",
        "outputId": "03daec97-aa8e-4069-ea55-9b90c23e652d"
      },
      "execution_count": 8,
      "outputs": [
        {
          "output_type": "execute_result",
          "data": {
            "text/plain": [
              "5"
            ]
          },
          "metadata": {},
          "execution_count": 8
        }
      ]
    },
    {
      "cell_type": "code",
      "source": [
        "rdd.collect()"
      ],
      "metadata": {
        "colab": {
          "base_uri": "https://localhost:8080/"
        },
        "id": "u45H_WcvggFx",
        "outputId": "4a0cb9ad-0dca-4e59-9c2f-9f669f496be2"
      },
      "execution_count": 9,
      "outputs": [
        {
          "output_type": "execute_result",
          "data": {
            "text/plain": [
              "[0, 1, 2, 3, 4, 5, 6, 7]"
            ]
          },
          "metadata": {},
          "execution_count": 9
        }
      ]
    },
    {
      "cell_type": "code",
      "source": [
        "rdd.glom().collect()"
      ],
      "metadata": {
        "colab": {
          "base_uri": "https://localhost:8080/"
        },
        "id": "sRmhhy_zhEzf",
        "outputId": "08b18788-cbd9-4a1d-f5b7-d68839e60cbc"
      },
      "execution_count": 10,
      "outputs": [
        {
          "output_type": "execute_result",
          "data": {
            "text/plain": [
              "[[0], [1, 2], [3], [4, 5], [6, 7]]"
            ]
          },
          "metadata": {},
          "execution_count": 10
        }
      ]
    },
    {
      "cell_type": "code",
      "source": [
        "#import time\n",
        "#start=time.time()\n",
        "data = list(range(8))\n",
        "rdd=sc.parallelize(data, 4)\n",
        "eleva_al_cuadrado=lambda x: x**2\n",
        "rdd.map(eleva_al_cuadrado).collect()\n",
        "#end=time.time()\n",
        "#print(end-start)"
      ],
      "metadata": {
        "colab": {
          "base_uri": "https://localhost:8080/"
        },
        "id": "AZFEWQKNiBYP",
        "outputId": "3f31e79e-3fbb-4a76-a33e-2f82ef065eb3"
      },
      "execution_count": 17,
      "outputs": [
        {
          "output_type": "execute_result",
          "data": {
            "text/plain": [
              "[0, 1, 4, 9, 16, 25, 36, 49]"
            ]
          },
          "metadata": {},
          "execution_count": 17
        }
      ]
    },
    {
      "cell_type": "code",
      "source": [
        "import pandas as pd\n",
        "data=pd.DataFrame([])\n",
        "data['x']=list(range(8))\n",
        "eleva_al_cuadrado=lambda x: x*x\n",
        "data['x']= data.apply(lambda x:eleva_al_cuadrado(x.x),axis=1)\n",
        "data.sum().values[0]\n"
      ],
      "metadata": {
        "colab": {
          "base_uri": "https://localhost:8080/"
        },
        "id": "OVkVY4G-jMGI",
        "outputId": "99ce3f3f-5c0e-4bf9-d71c-68d478bc8a7c"
      },
      "execution_count": 20,
      "outputs": [
        {
          "output_type": "execute_result",
          "data": {
            "text/plain": [
              "140"
            ]
          },
          "metadata": {},
          "execution_count": 20
        }
      ]
    },
    {
      "cell_type": "code",
      "source": [
        "from operator import add\n",
        "data = list(range(8))\n",
        "rdd=sc.parallelize(data, 4)\n",
        "eleva_al_cuadrado=lambda x: x**2\n",
        "rdd.map(eleva_al_cuadrado).reduce(add)"
      ],
      "metadata": {
        "colab": {
          "base_uri": "https://localhost:8080/"
        },
        "id": "tnqbt-sPnpAk",
        "outputId": "3026e619-cfcc-4188-b348-11725b7016c8"
      },
      "execution_count": 19,
      "outputs": [
        {
          "output_type": "execute_result",
          "data": {
            "text/plain": [
              "140"
            ]
          },
          "metadata": {},
          "execution_count": 19
        }
      ]
    },
    {
      "cell_type": "code",
      "source": [
        "rdd.map(eleva_al_cuadrado).take(5)"
      ],
      "metadata": {
        "colab": {
          "base_uri": "https://localhost:8080/"
        },
        "id": "TlEVRCrbo5Rw",
        "outputId": "0fec9213-3552-4826-f43b-6ea596092576"
      },
      "execution_count": 21,
      "outputs": [
        {
          "output_type": "execute_result",
          "data": {
            "text/plain": [
              "[0, 1, 4, 9, 16]"
            ]
          },
          "metadata": {},
          "execution_count": 21
        }
      ]
    },
    {
      "cell_type": "code",
      "source": [
        "rdd.map(eleva_al_cuadrado).first()"
      ],
      "metadata": {
        "colab": {
          "base_uri": "https://localhost:8080/"
        },
        "id": "9vr_ezOlpZRb",
        "outputId": "b380ae65-a15d-4798-da3f-8ed4e02e4191"
      },
      "execution_count": 22,
      "outputs": [
        {
          "output_type": "execute_result",
          "data": {
            "text/plain": [
              "0"
            ]
          },
          "metadata": {},
          "execution_count": 22
        }
      ]
    },
    {
      "cell_type": "code",
      "source": [
        "rdd=sc.parallelize([('Lunes',1),('Martes',2),('Martes',1),('Lunes',5),('Martes',6),('Lunes',7),('Miercoles',1)])\n",
        "#rdd.glom().collect()\n",
        "rdd.countByKey()"
      ],
      "metadata": {
        "colab": {
          "base_uri": "https://localhost:8080/"
        },
        "id": "MPHsUSt7p-hX",
        "outputId": "a90bdd62-2aa1-4235-f116-8e1af58272ee"
      },
      "execution_count": 25,
      "outputs": [
        {
          "output_type": "execute_result",
          "data": {
            "text/plain": [
              "defaultdict(int, {'Lunes': 3, 'Martes': 3, 'Miercoles': 1})"
            ]
          },
          "metadata": {},
          "execution_count": 25
        }
      ]
    },
    {
      "cell_type": "code",
      "source": [
        "rdd_group=rdd.groupByKey()"
      ],
      "metadata": {
        "id": "A9DE64jMq6cW"
      },
      "execution_count": 26,
      "outputs": []
    },
    {
      "cell_type": "code",
      "source": [
        "rdd_group.collect()"
      ],
      "metadata": {
        "colab": {
          "base_uri": "https://localhost:8080/"
        },
        "id": "jkp0iGF2rJ2v",
        "outputId": "97690249-31c3-4483-f4f1-5702cae51162"
      },
      "execution_count": 27,
      "outputs": [
        {
          "output_type": "execute_result",
          "data": {
            "text/plain": [
              "[('Lunes', <pyspark.resultiterable.ResultIterable at 0x7f321c9eb640>),\n",
              " ('Martes', <pyspark.resultiterable.ResultIterable at 0x7f321c9e9900>),\n",
              " ('Miercoles', <pyspark.resultiterable.ResultIterable at 0x7f321c9eab00>)]"
            ]
          },
          "metadata": {},
          "execution_count": 27
        }
      ]
    },
    {
      "cell_type": "code",
      "source": [
        "[(j[0], list(j[1])) for j in rdd_group.collect()]"
      ],
      "metadata": {
        "colab": {
          "base_uri": "https://localhost:8080/"
        },
        "id": "R4StdifKrdPf",
        "outputId": "79b45cc1-a38b-42cc-8453-24dbe03de715"
      },
      "execution_count": 28,
      "outputs": [
        {
          "output_type": "execute_result",
          "data": {
            "text/plain": [
              "[('Lunes', [1, 5, 7]), ('Martes', [2, 1, 6]), ('Miercoles', [1])]"
            ]
          },
          "metadata": {},
          "execution_count": 28
        }
      ]
    },
    {
      "cell_type": "code",
      "source": [
        "[(j[0], sum(list(j[1]))) for j in rdd_group.collect()]"
      ],
      "metadata": {
        "colab": {
          "base_uri": "https://localhost:8080/"
        },
        "id": "D4fybM7PruCB",
        "outputId": "e1147751-fd9b-4053-f90c-c4b92b527d77"
      },
      "execution_count": 29,
      "outputs": [
        {
          "output_type": "execute_result",
          "data": {
            "text/plain": [
              "[('Lunes', 13), ('Martes', 9), ('Miercoles', 1)]"
            ]
          },
          "metadata": {},
          "execution_count": 29
        }
      ]
    },
    {
      "cell_type": "code",
      "source": [
        "rdd.reduceByKey(add).collect()"
      ],
      "metadata": {
        "colab": {
          "base_uri": "https://localhost:8080/"
        },
        "id": "t-li1uK_sz99",
        "outputId": "263d7f17-b8ea-4459-acf7-87a08fc55627"
      },
      "execution_count": 30,
      "outputs": [
        {
          "output_type": "execute_result",
          "data": {
            "text/plain": [
              "[('Lunes', 13), ('Martes', 9), ('Miercoles', 1)]"
            ]
          },
          "metadata": {},
          "execution_count": 30
        }
      ]
    },
    {
      "cell_type": "code",
      "source": [
        "rdd.keyBy(lambda x: x[0]).collect()"
      ],
      "metadata": {
        "colab": {
          "base_uri": "https://localhost:8080/"
        },
        "id": "8DHHJaBztJoB",
        "outputId": "96b3e78f-d952-44d2-bab6-18b562cd1ee1"
      },
      "execution_count": 31,
      "outputs": [
        {
          "output_type": "execute_result",
          "data": {
            "text/plain": [
              "[('Lunes', ('Lunes', 1)),\n",
              " ('Martes', ('Martes', 2)),\n",
              " ('Martes', ('Martes', 1)),\n",
              " ('Lunes', ('Lunes', 5)),\n",
              " ('Martes', ('Martes', 6)),\n",
              " ('Lunes', ('Lunes', 7)),\n",
              " ('Miercoles', ('Miercoles', 1))]"
            ]
          },
          "metadata": {},
          "execution_count": 31
        }
      ]
    },
    {
      "cell_type": "code",
      "source": [
        "x= sc.parallelize([('a',1),('b',2)])\n",
        "y= sc.parallelize([('c',3),('b',2),('b',5)])\n",
        "\n",
        "\n",
        "x.join(y).collect()"
      ],
      "metadata": {
        "colab": {
          "base_uri": "https://localhost:8080/"
        },
        "id": "sbRMCesAtp-z",
        "outputId": "e500471d-b09d-4d3a-d176-47b68dc04129"
      },
      "execution_count": 32,
      "outputs": [
        {
          "output_type": "execute_result",
          "data": {
            "text/plain": [
              "[('b', (2, 2)), ('b', (2, 5))]"
            ]
          },
          "metadata": {},
          "execution_count": 32
        }
      ]
    },
    {
      "cell_type": "code",
      "source": [
        "x= sc.parallelize([('a',1),('b',2)])\n",
        "y= sc.parallelize([('c',3),('b',5)])\n",
        "\n",
        "x_y_joined =x.join(y)\n",
        "x_y_joined.collect()"
      ],
      "metadata": {
        "colab": {
          "base_uri": "https://localhost:8080/"
        },
        "id": "HXwbqBBQvHWK",
        "outputId": "63c65842-e99c-4f0c-f965-de1b466d82d9"
      },
      "execution_count": 33,
      "outputs": [
        {
          "output_type": "execute_result",
          "data": {
            "text/plain": [
              "[('b', (2, 5))]"
            ]
          },
          "metadata": {},
          "execution_count": 33
        }
      ]
    },
    {
      "cell_type": "code",
      "source": [
        "from google.colab import drive\n",
        "drive.mount(\"/content/gdrive\")\n",
        "gdrive='/content/gdrive/MyDrive/big data/'"
      ],
      "metadata": {
        "colab": {
          "base_uri": "https://localhost:8080/"
        },
        "id": "pFSW5xC9vhev",
        "outputId": "49fa3baa-5a81-4b90-a869-498eb0c622a9"
      },
      "execution_count": 35,
      "outputs": [
        {
          "output_type": "stream",
          "name": "stdout",
          "text": [
            "Drive already mounted at /content/gdrive; to attempt to forcibly remount, call drive.mount(\"/content/gdrive\", force_remount=True).\n"
          ]
        }
      ]
    },
    {
      "cell_type": "code",
      "source": [
        "data=sc.textFile(gdrive + 'Tabla_segmentacion.csv')"
      ],
      "metadata": {
        "id": "92rzkpkzvxvx"
      },
      "execution_count": 36,
      "outputs": []
    },
    {
      "cell_type": "code",
      "source": [
        "data.count()"
      ],
      "metadata": {
        "colab": {
          "base_uri": "https://localhost:8080/"
        },
        "id": "bJc7-E5bv71k",
        "outputId": "72db8424-7ace-4278-ebbf-d7387195a122"
      },
      "execution_count": 37,
      "outputs": [
        {
          "output_type": "execute_result",
          "data": {
            "text/plain": [
              "2805668"
            ]
          },
          "metadata": {},
          "execution_count": 37
        }
      ]
    },
    {
      "cell_type": "code",
      "source": [
        "data.take(20)"
      ],
      "metadata": {
        "colab": {
          "base_uri": "https://localhost:8080/"
        },
        "id": "FtAh1t35v__O",
        "outputId": "9ab2d2b8-c87b-4149-8bfb-a46052866f84"
      },
      "execution_count": 38,
      "outputs": [
        {
          "output_type": "execute_result",
          "data": {
            "text/plain": [
              "['RUT_CLI;SEGMENTO;SUB_SEGMENTO_1;SUB_SEGMENTO_2;SUB_SEGMENTO_3;VALOR_JERARQUIA;JERARQUIA;SEGMENTO_string',\n",
              " '25501902;31833;0.0;0.0;3.0;5-10;2;0-0-3-p90+',\n",
              " '77447639;31844;0.0;0.0;5.0;5-10;2;0-0-5-p90',\n",
              " '10935354;51716;3.0;0.0;3.0;5-15;2;3-0-p90+',\n",
              " '76956256;31820;0.0;0.0;1.0;5-19;2;0-0-1-p90',\n",
              " '76131545;31825;0.0;0.0;2.0;5-21;2;0-0-2-p70',\n",
              " '77310489;31832;0.0;0.0;3.0;5-10;2;0-0-3-p90',\n",
              " '76660860;31844;0.0;0.0;5.0;5-21;2;0-0-5-p90',\n",
              " '77032139;31833;0.0;0.0;3.0;5-18;2;0-0-3-p90+',\n",
              " '77283070;31830;0.0;0.0;3.0;5-12;2;0-0-3-p50',\n",
              " '12448703;51716;3.0;0.0;3.0;5-15;2;3-0-p90+',\n",
              " '76608578;51716;3.0;0.0;4.0;5-15;2;3-0-p90+',\n",
              " '76280854;31844;0.0;0.0;5.0;5-10;2;0-0-5-p90',\n",
              " '76963495;31844;0.0;0.0;5.0;5-10;2;0-0-5-p90',\n",
              " '76920315;42942;2.0;0.0;2.0;5-17;2;2-0-p10',\n",
              " '76463958;31832;0.0;0.0;3.0;5-10;2;0-0-3-p90',\n",
              " '77513021;31832;0.0;0.0;3.0;5-10;2;0-0-3-p90',\n",
              " '77017212;31831;0.0;0.0;3.0;5-22;2;0-0-3-p70',\n",
              " '8015949;31844;0.0;0.0;5.0;5-21;2;0-0-5-p90',\n",
              " '76989789;31844;0.0;0.0;5.0;5-21;2;0-0-5-p90']"
            ]
          },
          "metadata": {},
          "execution_count": 38
        }
      ]
    },
    {
      "cell_type": "code",
      "source": [
        "data.map(lambda line: line.split(\";\")).take(20)"
      ],
      "metadata": {
        "colab": {
          "base_uri": "https://localhost:8080/"
        },
        "id": "BpjrvaKTwG52",
        "outputId": "612bd8dd-c5e5-431d-bde0-46c02a0c2c70"
      },
      "execution_count": 39,
      "outputs": [
        {
          "output_type": "execute_result",
          "data": {
            "text/plain": [
              "[['RUT_CLI',\n",
              "  'SEGMENTO',\n",
              "  'SUB_SEGMENTO_1',\n",
              "  'SUB_SEGMENTO_2',\n",
              "  'SUB_SEGMENTO_3',\n",
              "  'VALOR_JERARQUIA',\n",
              "  'JERARQUIA',\n",
              "  'SEGMENTO_string'],\n",
              " ['25501902', '31833', '0.0', '0.0', '3.0', '5-10', '2', '0-0-3-p90+'],\n",
              " ['77447639', '31844', '0.0', '0.0', '5.0', '5-10', '2', '0-0-5-p90'],\n",
              " ['10935354', '51716', '3.0', '0.0', '3.0', '5-15', '2', '3-0-p90+'],\n",
              " ['76956256', '31820', '0.0', '0.0', '1.0', '5-19', '2', '0-0-1-p90'],\n",
              " ['76131545', '31825', '0.0', '0.0', '2.0', '5-21', '2', '0-0-2-p70'],\n",
              " ['77310489', '31832', '0.0', '0.0', '3.0', '5-10', '2', '0-0-3-p90'],\n",
              " ['76660860', '31844', '0.0', '0.0', '5.0', '5-21', '2', '0-0-5-p90'],\n",
              " ['77032139', '31833', '0.0', '0.0', '3.0', '5-18', '2', '0-0-3-p90+'],\n",
              " ['77283070', '31830', '0.0', '0.0', '3.0', '5-12', '2', '0-0-3-p50'],\n",
              " ['12448703', '51716', '3.0', '0.0', '3.0', '5-15', '2', '3-0-p90+'],\n",
              " ['76608578', '51716', '3.0', '0.0', '4.0', '5-15', '2', '3-0-p90+'],\n",
              " ['76280854', '31844', '0.0', '0.0', '5.0', '5-10', '2', '0-0-5-p90'],\n",
              " ['76963495', '31844', '0.0', '0.0', '5.0', '5-10', '2', '0-0-5-p90'],\n",
              " ['76920315', '42942', '2.0', '0.0', '2.0', '5-17', '2', '2-0-p10'],\n",
              " ['76463958', '31832', '0.0', '0.0', '3.0', '5-10', '2', '0-0-3-p90'],\n",
              " ['77513021', '31832', '0.0', '0.0', '3.0', '5-10', '2', '0-0-3-p90'],\n",
              " ['77017212', '31831', '0.0', '0.0', '3.0', '5-22', '2', '0-0-3-p70'],\n",
              " ['8015949', '31844', '0.0', '0.0', '5.0', '5-21', '2', '0-0-5-p90'],\n",
              " ['76989789', '31844', '0.0', '0.0', '5.0', '5-21', '2', '0-0-5-p90']]"
            ]
          },
          "metadata": {},
          "execution_count": 39
        }
      ]
    },
    {
      "cell_type": "code",
      "source": [
        "data.map(lambda line: line.split(\";\")).take(2)"
      ],
      "metadata": {
        "colab": {
          "base_uri": "https://localhost:8080/"
        },
        "id": "vlOagmIfwgCt",
        "outputId": "f6e9144e-9e5e-414f-8fbb-109255c49746"
      },
      "execution_count": 41,
      "outputs": [
        {
          "output_type": "execute_result",
          "data": {
            "text/plain": [
              "[['RUT_CLI',\n",
              "  'SEGMENTO',\n",
              "  'SUB_SEGMENTO_1',\n",
              "  'SUB_SEGMENTO_2',\n",
              "  'SUB_SEGMENTO_3',\n",
              "  'VALOR_JERARQUIA',\n",
              "  'JERARQUIA',\n",
              "  'SEGMENTO_string'],\n",
              " ['25501902', '31833', '0.0', '0.0', '3.0', '5-10', '2', '0-0-3-p90+']]"
            ]
          },
          "metadata": {},
          "execution_count": 41
        }
      ]
    }
  ]
}