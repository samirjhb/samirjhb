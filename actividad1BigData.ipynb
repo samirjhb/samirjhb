{
  "nbformat": 4,
  "nbformat_minor": 0,
  "metadata": {
    "colab": {
      "provenance": [],
      "mount_file_id": "1M6R-02kKW9r3cLj30S-KomXuKCDXuHtW",
      "authorship_tag": "ABX9TyO+G3+nFikSsop31baUOeAm",
      "include_colab_link": true
    },
    "kernelspec": {
      "name": "python3",
      "display_name": "Python 3"
    },
    "language_info": {
      "name": "python"
    }
  },
  "cells": [
    {
      "cell_type": "markdown",
      "metadata": {
        "id": "view-in-github",
        "colab_type": "text"
      },
      "source": [
        "<a href=\"https://colab.research.google.com/github/samirjhb/samirjhb/blob/main/actividad1BigData.ipynb\" target=\"_parent\"><img src=\"https://colab.research.google.com/assets/colab-badge.svg\" alt=\"Open In Colab\"/></a>"
      ]
    },
    {
      "cell_type": "code",
      "execution_count": null,
      "metadata": {
        "id": "XgjJQcDn-4Jr"
      },
      "outputs": [],
      "source": [
        "!pip install pyspark"
      ]
    },
    {
      "cell_type": "code",
      "source": [
        "!pip install pyarrow"
      ],
      "metadata": {
        "id": "Rdaf95gQ--Yg"
      },
      "execution_count": null,
      "outputs": []
    },
    {
      "cell_type": "code",
      "source": [
        "from google.colab import drive\n",
        "drive.mount(\"/content/gdrive\")\n",
        "gdrive='/content/gdrive/MyDrive/big data/'"
      ],
      "metadata": {
        "id": "6xVbpI9Kt3jF"
      },
      "execution_count": null,
      "outputs": []
    },
    {
      "cell_type": "code",
      "source": [
        "from pyspark.sql import SparkSession\n",
        "from pyspark.sql.types import IntegerType\n",
        "from pyspark.sql.types import DecimalType\n",
        "from pyspark.sql.types import StringType\n",
        "from pyspark.sql.types import StructType\n",
        "from pyspark.sql.types import StructField\n",
        "\n",
        "customschema=StructType([\n",
        "    StructField(\"RUT_CLI\", IntegerType(),True),\n",
        "    StructField(\"SEGMENTO\", StringType(),True),\n",
        "    StructField(\"SUB_SEGMENTO_1\", DecimalType(),True),\n",
        "    StructField(\"SUB_SEGMENTO_2\", DecimalType(),True),\n",
        "    StructField(\"SUB_SEGMENTO_3\", DecimalType(),True),\n",
        "    StructField(\"VALOR_JERARQUIA\", StringType(),True),\n",
        "    StructField(\"JERARQUIA\", StringType(),True),\n",
        "    StructField(\"SEGMENTO_string\", StringType(),True),\n",
        "\n",
        "\n",
        "])\n",
        "\n",
        "spark=SparkSession.builder.master(\"local[*]\").appName(\"ejemplo1\").getOrCreate()"
      ],
      "metadata": {
        "id": "CriClpgs_ubd"
      },
      "execution_count": 59,
      "outputs": []
    },
    {
      "cell_type": "code",
      "source": [
        "segmentacion = gdrive + 'Tabla_segmentacion.csv'"
      ],
      "metadata": {
        "id": "BDAbTib9AJHp"
      },
      "execution_count": 50,
      "outputs": []
    },
    {
      "cell_type": "code",
      "source": [
        "pricing = gdrive + 'Tabla_pricing.csv'"
      ],
      "metadata": {
        "id": "Q-1UdSoiGOrz"
      },
      "execution_count": 51,
      "outputs": []
    },
    {
      "cell_type": "code",
      "source": [
        "df_segmentacion = spark.read.format(\"com.databricks.spark.csv\").schema(customschema).load(segmentacion)"
      ],
      "metadata": {
        "id": "YhB19NP4vWbA"
      },
      "execution_count": 62,
      "outputs": []
    },
    {
      "cell_type": "code",
      "source": [
        "df_segmentacion.schema"
      ],
      "metadata": {
        "id": "wngwGC58wH-w"
      },
      "execution_count": null,
      "outputs": []
    },
    {
      "cell_type": "code",
      "source": [
        "df_segmentacion = spark.read.csv(segmentacion, inferSchema=True, header =True,sep=\";\")\n",
        "df_pricing = spark.read.csv(pricing, inferSchema=True, header =True,sep=\";\")"
      ],
      "metadata": {
        "id": "QP6bA-S5AnBM"
      },
      "execution_count": 63,
      "outputs": []
    },
    {
      "cell_type": "code",
      "source": [
        "df_segmentacion.createOrReplaceTempView(\"segmentacion\")\n",
        "df_pricing.createOrReplaceTempView(\"pricing\")"
      ],
      "metadata": {
        "id": "ezyqsTrLDHtq"
      },
      "execution_count": 64,
      "outputs": []
    },
    {
      "cell_type": "code",
      "source": [
        "spark.sql(\"select * from  segmentacion\").show()"
      ],
      "metadata": {
        "id": "Jm45SfsLC88u"
      },
      "execution_count": null,
      "outputs": []
    },
    {
      "cell_type": "code",
      "source": [
        "spark.sql(\"select count(*) from  segmentacion\").show()"
      ],
      "metadata": {
        "id": "hSl7CnLFDwrD"
      },
      "execution_count": null,
      "outputs": []
    },
    {
      "cell_type": "code",
      "source": [
        "spark.sql(\"select * from pricing\").show()"
      ],
      "metadata": {
        "id": "ZmH1xd6AqDwQ"
      },
      "execution_count": null,
      "outputs": []
    },
    {
      "cell_type": "code",
      "source": [
        "spark.sql(\"select RUT_CLI,count(*) from  segmentacion group by RUT_CLI\").show()"
      ],
      "metadata": {
        "id": "_UwLSO1SEXzu"
      },
      "execution_count": null,
      "outputs": []
    },
    {
      "cell_type": "code",
      "source": [
        "qry='''\n",
        "  select * from pricing\n",
        "  where SEGMENTO= (\n",
        "    select SEGMENTO\n",
        "    from segmentacion\n",
        "    where RUT_CLI=25501902\n",
        "    limit 1)\n",
        "  and FAMILIA=13 and SUBFAMILIA=2 and SUCURSAL='E566'\n",
        "    '''\n",
        "spark.sql(qry).show()"
      ],
      "metadata": {
        "id": "9f9vEdtZkw_8"
      },
      "execution_count": null,
      "outputs": []
    },
    {
      "cell_type": "code",
      "source": [
        "df_segmentacion.filter(df_segmentacion.RUT_CLI==25501902).show()"
      ],
      "metadata": {
        "id": "tBskGpDXl1LF"
      },
      "execution_count": null,
      "outputs": []
    },
    {
      "cell_type": "code",
      "source": [
        "df_segmentacion.select(\"SEGMENTO\").filter(df_segmentacion.RUT_CLI==25501902).limit(1).show()"
      ],
      "metadata": {
        "id": "DgoX-yaZnxKE"
      },
      "execution_count": null,
      "outputs": []
    },
    {
      "cell_type": "code",
      "source": [
        "df_pricing.show()"
      ],
      "metadata": {
        "id": "ezA95crlw-rp"
      },
      "execution_count": null,
      "outputs": []
    }
  ]
}