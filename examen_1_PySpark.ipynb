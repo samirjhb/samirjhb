{
  "nbformat": 4,
  "nbformat_minor": 0,
  "metadata": {
    "colab": {
      "provenance": [],
      "authorship_tag": "ABX9TyNdhQWRMpcMw4Jd5GqOPEm1",
      "include_colab_link": true
    },
    "kernelspec": {
      "name": "python3",
      "display_name": "Python 3"
    },
    "language_info": {
      "name": "python"
    }
  },
  "cells": [
    {
      "cell_type": "markdown",
      "metadata": {
        "id": "view-in-github",
        "colab_type": "text"
      },
      "source": [
        "<a href=\"https://colab.research.google.com/github/samirjhb/samirjhb/blob/main/examen_1_PySpark.ipynb\" target=\"_parent\"><img src=\"https://colab.research.google.com/assets/colab-badge.svg\" alt=\"Open In Colab\"/></a>"
      ]
    },
    {
      "cell_type": "code",
      "execution_count": 1,
      "metadata": {
        "id": "hTERespTbxOt"
      },
      "outputs": [],
      "source": [
        "## INSTALACION DE PAQUETE\n",
        "%%capture\n",
        "!pip install pyspark\n",
        "!pip install pyarrow"
      ]
    },
    {
      "cell_type": "code",
      "source": [
        "##CONEXION DRIVE\n",
        "from google.colab import drive\n",
        "drive.mount(\"/content/gdrive\")\n",
        "gdrive='/content/gdrive/MyDrive/big data/'\n",
        "segmentacion = gdrive + 'Tabla_segmentacion.csv'\n",
        "pricing = gdrive + 'Tabla_pricing.csv'"
      ],
      "metadata": {
        "colab": {
          "base_uri": "https://localhost:8080/"
        },
        "id": "nE04ur-Cb05K",
        "outputId": "bc954ede-732c-462b-c2fc-7fb1d3b85dfa"
      },
      "execution_count": 2,
      "outputs": [
        {
          "output_type": "stream",
          "name": "stdout",
          "text": [
            "Mounted at /content/gdrive\n"
          ]
        }
      ]
    },
    {
      "cell_type": "code",
      "source": [
        "from pyspark.sql import SparkSession\n",
        "from pyspark.sql.functions import min as pyspark_min, max as pyspark_max\n",
        "from pyspark.sql.functions import count, avg, col\n",
        "from pyspark.sql.functions import countDistinct\n",
        "from pyspark.sql.functions import desc\n",
        "\n",
        "\n",
        "# Crear una sesión de Spark\n",
        "spark = SparkSession.builder.master(\"local[*]\").appName(\"Ejemplo\").getOrCreate()\n",
        "\n",
        "# Cargar DataFrames desde archivos CSV\n",
        "df_seg = spark.read.csv(segmentacion, inferSchema=True, header =True,sep=\";\")\n",
        "df_pri = spark.read.csv(pricing, inferSchema=True, header =True,sep=\";\")"
      ],
      "metadata": {
        "id": "IQF8MVWzcD0R"
      },
      "execution_count": 45,
      "outputs": []
    },
    {
      "cell_type": "code",
      "source": [
        "## Punto 1\n",
        "# Contar registros en cada DataFrame\n",
        "conteo_seg = df_seg.count()\n",
        "conteo_pri = df_pri.count()\n",
        "\n",
        "# Calcular la unión de ambos DataFrames\n",
        "union_registros = conteo_seg + conteo_pri\n",
        "\n",
        "# Imprimir resultados\n",
        "print(f\"Registros en Tabla_segmentacion.csv: {conteo_seg}\")\n",
        "print(f\"Registros en Tabla_pricing.csv: {conteo_pri}\")\n",
        "print(f\"Registros en ambos archivos: {union_registros}\")"
      ],
      "metadata": {
        "colab": {
          "base_uri": "https://localhost:8080/"
        },
        "id": "Rg7Gxtl4eO3a",
        "outputId": "57a7a7e0-6be2-4288-fae8-17ac703f5d3a"
      },
      "execution_count": 31,
      "outputs": [
        {
          "output_type": "stream",
          "name": "stdout",
          "text": [
            "Registros en Tabla_segmentacion.csv: 2805667\n",
            "Registros en Tabla_pricing.csv: 12581326\n",
            "Registros en ambos archivos: 15386993\n"
          ]
        }
      ]
    },
    {
      "cell_type": "code",
      "source": [
        "## Punto 2\n",
        "# Seleccionar solo las columnas relevantes\n",
        "df_pri = df_pri.select(\"FAMILIA\", \"MARGEN\")\n",
        "\n",
        "# Calcular los rangos mínimos y máximos por familia\n",
        "resultados_familias = df_pri.groupBy(\"FAMILIA\").agg(\n",
        "    pyspark_min(\"MARGEN\").alias(\"min_margen\"),\n",
        "    pyspark_max(\"MARGEN\").alias(\"max_margen\")\n",
        ")\n",
        "\n",
        "# Mostrar resultados\n",
        "resultados_familias.show(truncate=False)"
      ],
      "metadata": {
        "colab": {
          "base_uri": "https://localhost:8080/"
        },
        "id": "VpRIDaS-dC9t",
        "outputId": "c3562f7a-7bbe-4458-a8e7-39bf8620a31f"
      },
      "execution_count": 32,
      "outputs": [
        {
          "output_type": "stream",
          "name": "stdout",
          "text": [
            "+-------+------------------+------------------+\n",
            "|FAMILIA|min_margen        |max_margen        |\n",
            "+-------+------------------+------------------+\n",
            "|1      |0.1306476481437908|0.6543916706056292|\n",
            "|10     |0.1306476481437908|0.9348571428571428|\n",
            "|11     |0.1306476481437908|0.6968634975081676|\n",
            "|12     |0.1306476481437908|0.6862996158770807|\n",
            "|13     |0.1306476481437908|0.5705853658536586|\n",
            "|2      |0.1306476481437908|0.9129213483146068|\n",
            "|3      |0.1306476481437908|0.5800000000000001|\n",
            "|4      |0.1306476481437908|0.8433924466193962|\n",
            "|5      |0.1306476481437908|0.9989324223337248|\n",
            "|6      |0.1306476481437908|0.9984176477444924|\n",
            "|7      |0.1306476481437908|0.6961444508475835|\n",
            "|8      |0.1306476481437908|0.9423213066112972|\n",
            "|9      |0.1306476481437908|0.7539181286549708|\n",
            "+-------+------------------+------------------+\n",
            "\n"
          ]
        }
      ]
    },
    {
      "cell_type": "code",
      "source": [
        "##Punto 3\n",
        "\n",
        "# Contar el número de clientes por segmento en df_seg\n",
        "clientes_seg = df_seg.groupBy(\"SEGMENTO\").agg(count(\"RUT_CLI\").alias(\"NUM_CLIENTES_SEG\"))\n",
        "\n",
        "# Contar el número de clientes por segmento en df_pri\n",
        "clientes_pri = df_pri.groupBy(\"SEGMENTO\").agg(count(\"FAMILIA\").alias(\"NUM_CLIENTES_PRI\"))\n",
        "\n",
        "# Unir ambos resultados por segmento\n",
        "clientes_por_segmento = clientes_seg.join(clientes_pri, \"SEGMENTO\")\n",
        "\n",
        "# Calcular el promedio de clientes por segmento\n",
        "clientes_por_segmento = clientes_por_segmento.withColumn(\"PROMEDIO_CLIENTES\", (col(\"NUM_CLIENTES_SEG\") + col(\"NUM_CLIENTES_PRI\")) / 2)\n",
        "\n",
        "# Imprimir resultados\n",
        "clientes_por_segmento.show()"
      ],
      "metadata": {
        "colab": {
          "base_uri": "https://localhost:8080/"
        },
        "id": "dG-QW0wSnguN",
        "outputId": "ec8914a3-857c-467e-8d28-3c0affc617d7"
      },
      "execution_count": 38,
      "outputs": [
        {
          "output_type": "stream",
          "name": "stdout",
          "text": [
            "+--------+----------------+----------------+-----------------+\n",
            "|SEGMENTO|NUM_CLIENTES_SEG|NUM_CLIENTES_PRI|PROMEDIO_CLIENTES|\n",
            "+--------+----------------+----------------+-----------------+\n",
            "|   45307|               1|             578|            289.5|\n",
            "|   35912|               1|            1445|            723.0|\n",
            "|   35982|               1|            2312|           1156.5|\n",
            "|  124647|               1|             578|            289.5|\n",
            "|  124967|               1|             578|            289.5|\n",
            "|  121854|               1|             578|            289.5|\n",
            "|   33868|               3|            1734|            868.5|\n",
            "|   36538|               4|            4046|           2025.0|\n",
            "|  124861|               1|            1156|            578.5|\n",
            "|   32855|               1|            1734|            867.5|\n",
            "|  124743|               1|            1156|            578.5|\n",
            "|   37111|               2|            1156|            579.0|\n",
            "|   35820|               1|             867|            434.0|\n",
            "|   75120|               2|            2023|           1012.5|\n",
            "|   75122|               1|            1156|            578.5|\n",
            "|  114503|               1|             578|            289.5|\n",
            "|   40011|               1|            1156|            578.5|\n",
            "|   38395|               2|            2023|           1012.5|\n",
            "|  125052|               1|             867|            434.0|\n",
            "|   40383|               2|            2023|           1012.5|\n",
            "+--------+----------------+----------------+-----------------+\n",
            "only showing top 20 rows\n",
            "\n"
          ]
        }
      ]
    },
    {
      "cell_type": "code",
      "source": [
        "## Punto 4\n",
        "\n",
        "# Contar la cantidad de rubros distintos en df_pri\n",
        "rubros_count = df_pri.agg(countDistinct(\"RUBRO\").alias(\"NUM_RUBROS\"))\n",
        "\n",
        "# Mostrar resultados\n",
        "rubros_count.show()\n"
      ],
      "metadata": {
        "colab": {
          "base_uri": "https://localhost:8080/"
        },
        "id": "Kr8W7_o-pNPn",
        "outputId": "d4b8ba3f-06d6-4791-bda1-92439f8743e0"
      },
      "execution_count": 41,
      "outputs": [
        {
          "output_type": "stream",
          "name": "stdout",
          "text": [
            "+----------+\n",
            "|NUM_RUBROS|\n",
            "+----------+\n",
            "|        17|\n",
            "+----------+\n",
            "\n"
          ]
        }
      ]
    },
    {
      "cell_type": "code",
      "source": [
        "## Punto 5\n",
        "\n",
        "# Encontrar el cliente con el mayor precio\n",
        "cliente_mayor_precio = df_pri.orderBy(desc(\"MARGEN\")).first()\n",
        "\n",
        "# Mostrar resultados\n",
        "print(\"Cliente con el mayor precio:\")\n",
        "print(cliente_mayor_precio)"
      ],
      "metadata": {
        "colab": {
          "base_uri": "https://localhost:8080/"
        },
        "id": "HNVQvO0bq83m",
        "outputId": "3f894da5-83eb-46d7-f616-2567a902fa3d"
      },
      "execution_count": 46,
      "outputs": [
        {
          "output_type": "stream",
          "name": "stdout",
          "text": [
            "Cliente con el mayor precio:\n",
            "Row(SEGMENTO=1, SUCURSAL='E523', RUBRO='C5 ', FAMILIA=5, SUBFAMILIA=11, PRODUCTO=None, JERARQUIA=2, MARGEN=0.9989324223337248, MARGEN_PRE_APRO=0.9989324223337248)\n"
          ]
        }
      ]
    },
    {
      "cell_type": "code",
      "source": [
        "## Punto 6\n",
        "\n",
        "# Calcular el margen promedio por sucursal en df_pri\n",
        "margen_promedio_por_sucursal = df_pri.groupBy(\"SUCURSAL\").agg(avg(\"MARGEN\").alias(\"MARGEN_PROMEDIO\"))\n",
        "\n",
        "# Encontrar la sucursal con el mayor margen promedio\n",
        "sucursal_max_margen = margen_promedio_por_sucursal.orderBy(\"MARGEN_PROMEDIO\", ascending=False).first()\n",
        "\n",
        "# Encontrar la sucursal con el menor margen promedio\n",
        "sucursal_min_margen = margen_promedio_por_sucursal.orderBy(\"MARGEN_PROMEDIO\").first()\n",
        "\n",
        "# Mostrar resultados\n",
        "print(\"Sucursal con el mayor margen promedio:\")\n",
        "print(sucursal_max_margen)\n",
        "\n",
        "print(\"\\nSucursal con el menor margen promedio:\")\n",
        "print(sucursal_min_margen)"
      ],
      "metadata": {
        "colab": {
          "base_uri": "https://localhost:8080/"
        },
        "id": "kAKJg3dTqWrJ",
        "outputId": "01b90cfa-67ba-4c4f-9449-c6cdb0a2508f"
      },
      "execution_count": 43,
      "outputs": [
        {
          "output_type": "stream",
          "name": "stdout",
          "text": [
            "Sucursal con el mayor margen promedio:\n",
            "Row(SUCURSAL='E550', MARGEN_PROMEDIO=0.3260823808111714)\n",
            "\n",
            "Sucursal con el menor margen promedio:\n",
            "Row(SUCURSAL='E576', MARGEN_PROMEDIO=0.2753196305799647)\n"
          ]
        }
      ]
    },
    {
      "cell_type": "code",
      "source": [
        "# Imprimir el esquema del DataFrame df_pri y df_seg\n",
        "#df_pri.printSchema()\n",
        "# df_seg.printSchema()\n",
        "df_pri.show()\n",
        "df_seg.show()\n"
      ],
      "metadata": {
        "id": "hxl0WYTlhTXJ"
      },
      "execution_count": null,
      "outputs": []
    }
  ]
}