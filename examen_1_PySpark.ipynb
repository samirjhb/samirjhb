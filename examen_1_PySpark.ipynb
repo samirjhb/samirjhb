{
  "nbformat": 4,
  "nbformat_minor": 0,
  "metadata": {
    "colab": {
      "provenance": [],
      "authorship_tag": "ABX9TyMiW4E9EKqdZcy7BrYsNZfI",
      "include_colab_link": true
    },
    "kernelspec": {
      "name": "python3",
      "display_name": "Python 3"
    },
    "language_info": {
      "name": "python"
    }
  },
  "cells": [
    {
      "cell_type": "markdown",
      "metadata": {
        "id": "view-in-github",
        "colab_type": "text"
      },
      "source": [
        "<a href=\"https://colab.research.google.com/github/samirjhb/samirjhb/blob/main/examen_1_PySpark.ipynb\" target=\"_parent\"><img src=\"https://colab.research.google.com/assets/colab-badge.svg\" alt=\"Open In Colab\"/></a>"
      ]
    },
    {
      "cell_type": "code",
      "execution_count": 1,
      "metadata": {
        "id": "hTERespTbxOt"
      },
      "outputs": [],
      "source": [
        "## INSTALACION DE PAQUETE\n",
        "%%capture\n",
        "!pip install pyspark\n",
        "!pip install pyarrow"
      ]
    },
    {
      "cell_type": "code",
      "source": [
        "## CONEXION DRIVE\n",
        "from google.colab import drive\n",
        "drive.mount(\"/content/gdrive\")\n",
        "gdrive='/content/gdrive/MyDrive/big data/'\n",
        "segmentacion = gdrive + 'Tabla_segmentacion.csv'\n",
        "pricing = gdrive + 'Tabla_pricing.csv'"
      ],
      "metadata": {
        "colab": {
          "base_uri": "https://localhost:8080/"
        },
        "id": "nE04ur-Cb05K",
        "outputId": "4fb91aed-18e9-4cf1-88e7-7d9d116e0af1"
      },
      "execution_count": 2,
      "outputs": [
        {
          "output_type": "stream",
          "name": "stdout",
          "text": [
            "Mounted at /content/gdrive\n"
          ]
        }
      ]
    },
    {
      "cell_type": "code",
      "source": [
        "from pyspark.sql import SparkSession\n",
        "from pyspark.sql.functions import min as pyspark_min, max as pyspark_max\n",
        "from pyspark.sql.functions import count, avg, col\n",
        "from pyspark.sql.functions import countDistinct\n",
        "from pyspark.sql.functions import desc\n",
        "from pyspark.sql import functions as F\n",
        "\n",
        "\n",
        "# Crear una sesión de Spark\n",
        "spark = SparkSession.builder.master(\"local[*]\").appName(\"Ejemplo\").getOrCreate()\n",
        "\n",
        "# Cargar DataFrames desde archivos CSV\n",
        "df_seg = spark.read.csv(segmentacion, inferSchema=True, header =True,sep=\";\")\n",
        "df_pri = spark.read.csv(pricing, inferSchema=True, header =True,sep=\";\")"
      ],
      "metadata": {
        "id": "IQF8MVWzcD0R"
      },
      "execution_count": 3,
      "outputs": []
    },
    {
      "cell_type": "code",
      "source": [
        "## Punto 1\n",
        "# Contar registros en cada DataFrame\n",
        "conteo_seg = df_seg.count()\n",
        "conteo_pri = df_pri.count()\n",
        "\n",
        "# Calcular la unión de ambos DataFrames\n",
        "union_registros = conteo_seg + conteo_pri\n",
        "\n",
        "# Imprimir resultados\n",
        "print(f\"Total de segmentacion: {conteo_seg}\")\n",
        "print(f\"Total de pricing: {conteo_pri}\")\n",
        "print(f\"Total en ambos archivos: {union_registros}\")"
      ],
      "metadata": {
        "colab": {
          "base_uri": "https://localhost:8080/"
        },
        "id": "Rg7Gxtl4eO3a",
        "outputId": "898ffa85-3335-4ee5-c46d-c8e8b6e6a83f"
      },
      "execution_count": 15,
      "outputs": [
        {
          "output_type": "stream",
          "name": "stdout",
          "text": [
            "Total de segmentacion: 2805667\n",
            "Total de pricing: 12581326\n",
            "Total en ambos archivos: 15386993\n"
          ]
        }
      ]
    },
    {
      "cell_type": "code",
      "source": [
        "## Punto 2\n",
        "# Seleccionar solo las columnas relevantes\n",
        "df_pri_select = df_pri.select(\"FAMILIA\", \"MARGEN\")\n",
        "\n",
        "# Calcular los rangos mínimos y máximos por familia\n",
        "resultados_familias = df_pri_select.groupBy(\"FAMILIA\").agg(\n",
        "    pyspark_min(\"MARGEN\").alias(\"min_margen\"),\n",
        "    pyspark_max(\"MARGEN\").alias(\"max_margen\")\n",
        ")\n",
        "\n",
        "# Mostrar resultados\n",
        "resultados_familias.show(truncate=False)"
      ],
      "metadata": {
        "colab": {
          "base_uri": "https://localhost:8080/"
        },
        "id": "VpRIDaS-dC9t",
        "outputId": "1ab46f0a-9b05-46a4-8a10-f7746ccd3471"
      },
      "execution_count": 23,
      "outputs": [
        {
          "output_type": "stream",
          "name": "stdout",
          "text": [
            "+-------+------------------+------------------+\n",
            "|FAMILIA|min_margen        |max_margen        |\n",
            "+-------+------------------+------------------+\n",
            "|12     |0.1306476481437908|0.6862996158770807|\n",
            "|1      |0.1306476481437908|0.6543916706056292|\n",
            "|13     |0.1306476481437908|0.5705853658536586|\n",
            "|6      |0.1306476481437908|0.9984176477444924|\n",
            "|3      |0.1306476481437908|0.5800000000000001|\n",
            "|5      |0.1306476481437908|0.9989324223337248|\n",
            "|9      |0.1306476481437908|0.7539181286549708|\n",
            "|4      |0.1306476481437908|0.8433924466193962|\n",
            "|8      |0.1306476481437908|0.9423213066112972|\n",
            "|7      |0.1306476481437908|0.6961444508475835|\n",
            "|10     |0.1306476481437908|0.9348571428571428|\n",
            "|11     |0.1306476481437908|0.6968634975081676|\n",
            "|2      |0.1306476481437908|0.9129213483146068|\n",
            "+-------+------------------+------------------+\n",
            "\n"
          ]
        }
      ]
    },
    {
      "cell_type": "code",
      "source": [
        "## Punto 3\n",
        "\n",
        "# Agrupar y realizar las agregaciones\n",
        "totalConCliente = df_seg.agg(\n",
        "    F.countDistinct(\"RUT_CLI\").alias(\"RUT_CLI\"),  # Contar clientes distintos\n",
        "    F.countDistinct(\"SEGMENTO\").alias(\"SEGMENTO\"),  # Contar segmentos distintos\n",
        "    (F.countDistinct(\"RUT_CLI\") / F.countDistinct(\"SEGMENTO\")).alias(\"PROMEDIO_CLIENTES\")  # Calcular el promedio\n",
        ")\n",
        "\n",
        "# Imprimir resultados\n",
        "totalConCliente.show()\n"
      ],
      "metadata": {
        "colab": {
          "base_uri": "https://localhost:8080/"
        },
        "id": "dG-QW0wSnguN",
        "outputId": "f9beb562-32a5-42c9-91ff-30a78a5660b5"
      },
      "execution_count": 21,
      "outputs": [
        {
          "output_type": "stream",
          "name": "stdout",
          "text": [
            "+-------+--------+-----------------+\n",
            "|RUT_CLI|SEGMENTO|PROMEDIO_CLIENTES|\n",
            "+-------+--------+-----------------+\n",
            "|  13296|    5371|2.475516663563582|\n",
            "+-------+--------+-----------------+\n",
            "\n"
          ]
        }
      ]
    },
    {
      "cell_type": "code",
      "source": [
        "## Punto 4\n",
        "\n",
        "# Contar la cantidad de rubros distintos en df_pri\n",
        "rubros_count = df_pri.agg(countDistinct(\"RUBRO\").alias(\"NUM_RUBROS\"))\n",
        "\n",
        "# Mostrar resultados\n",
        "rubros_count.show()\n"
      ],
      "metadata": {
        "colab": {
          "base_uri": "https://localhost:8080/"
        },
        "id": "Kr8W7_o-pNPn",
        "outputId": "b71302a9-049e-463c-a082-7ac4f1c36a9a"
      },
      "execution_count": 10,
      "outputs": [
        {
          "output_type": "stream",
          "name": "stdout",
          "text": [
            "+----------+\n",
            "|NUM_RUBROS|\n",
            "+----------+\n",
            "|        17|\n",
            "+----------+\n",
            "\n"
          ]
        }
      ]
    },
    {
      "cell_type": "code",
      "source": [
        "## Punto 5\n",
        "\n",
        "# Encontrar el cliente con el mayor precio\n",
        "cliente_mayor_precio = df_pri.orderBy(desc(\"MARGEN\")).first()\n",
        "\n",
        "# Mostrar resultados\n",
        "print(\"Cliente con el mayor precio:\")\n",
        "print(cliente_mayor_precio)"
      ],
      "metadata": {
        "colab": {
          "base_uri": "https://localhost:8080/"
        },
        "id": "HNVQvO0bq83m",
        "outputId": "1c0335f2-1103-476a-e39d-4794bb9c8575"
      },
      "execution_count": 4,
      "outputs": [
        {
          "output_type": "stream",
          "name": "stdout",
          "text": [
            "Cliente con el mayor precio:\n",
            "Row(SEGMENTO=1, SUCURSAL='E537', RUBRO='C5 ', FAMILIA=5, SUBFAMILIA=11, PRODUCTO=None, JERARQUIA=2, MARGEN=0.9989324223337248, MARGEN_PRE_APRO=0.9989324223337248)\n"
          ]
        }
      ]
    },
    {
      "cell_type": "code",
      "source": [
        "# Encontrar el cliente con el mayor precio\n",
        "cliente_mayor_precio = df_pri.orderBy(desc(\"MARGEN\")).first()\n",
        "\n",
        "# Mostrar resultados\n",
        "print(\"Cliente con el mayor precio:\")\n",
        "print(cliente_mayor_precio)\n",
        "\n",
        "# Obtener el RUT_CLI correspondiente al SEGMENTO del cliente con el mayor precio\n",
        "segmento_cliente_mayor_precio = cliente_mayor_precio[\"SEGMENTO\"]\n",
        "# Verificar si el SEGMENTO no es NULL antes de buscar el RUT_CLI\n",
        "if segmento_cliente_mayor_precio is not None:\n",
        "    rut_cliente_mayor_precio = df_seg.filter(col(\"SEGMENTO\") == segmento_cliente_mayor_precio).select(\"RUT_CLI\").first()\n",
        "\n",
        "    # Mostrar el RUT_CLI correspondiente\n",
        "    print(\"RUT_CLI del cliente con el mayor precio:\")\n",
        "    print(rut_cliente_mayor_precio[\"RUT_CLI\"])\n",
        "else:\n",
        "    print(\"El SEGMENTO es NULL, no se puede buscar el RUT_CLI correspondiente.\")"
      ],
      "metadata": {
        "colab": {
          "base_uri": "https://localhost:8080/"
        },
        "id": "jXTMqjeUAKip",
        "outputId": "5682eac7-e692-4af8-fe15-cbc9184745cc"
      },
      "execution_count": 5,
      "outputs": [
        {
          "output_type": "stream",
          "name": "stdout",
          "text": [
            "Cliente con el mayor precio:\n",
            "Row(SEGMENTO=1, SUCURSAL='E523', RUBRO='C5 ', FAMILIA=5, SUBFAMILIA=11, PRODUCTO=None, JERARQUIA=2, MARGEN=0.9989324223337248, MARGEN_PRE_APRO=0.9989324223337248)\n",
            "RUT_CLI del cliente con el mayor precio:\n",
            "None\n"
          ]
        }
      ]
    },
    {
      "cell_type": "code",
      "source": [
        "# Encontrar el cliente con el mayor precio\n",
        "# Ordenar el DataFrame por el campo \"MARGEN\" en orden descendente\n",
        "df_ordenado = df_pri.orderBy(desc(\"MARGEN\"))\n",
        "\n",
        "# Obtener el segundo cliente con mayor precio (o margen)\n",
        "cliente_mayor_precio = df_ordenado.take(2)[-1]\n",
        "\n",
        "# Mostrar resultados\n",
        "print(\"Cliente con el mayor precio:\")\n",
        "print(cliente_mayor_precio)\n",
        "\n",
        "# Obtener el RUT_CLI correspondiente al SEGMENTO del cliente con el mayor precio\n",
        "segmento_cliente_mayor_precio = cliente_mayor_precio[\"SEGMENTO\"]\n",
        "# Verificar si el SEGMENTO no es NULL antes de buscar el RUT_CLI\n",
        "if segmento_cliente_mayor_precio is not None:\n",
        "    rut_cliente_mayor_precio = df_seg.filter(col(\"SEGMENTO\") == segmento_cliente_mayor_precio).select(\"RUT_CLI\").first()\n",
        "\n",
        "    # Mostrar el RUT_CLI correspondiente\n",
        "    print(\"RUT_CLI del cliente con el mayor precio:\")\n",
        "    print(rut_cliente_mayor_precio[\"RUT_CLI\"])\n",
        "else:\n",
        "    print(\"El SEGMENTO es NULL, no se puede buscar el RUT_CLI correspondiente.\")"
      ],
      "metadata": {
        "colab": {
          "base_uri": "https://localhost:8080/"
        },
        "id": "r3Ro_8XSInKr",
        "outputId": "24b2b9b9-4e84-4610-a9ea-4192ab1fac1d"
      },
      "execution_count": 6,
      "outputs": [
        {
          "output_type": "stream",
          "name": "stdout",
          "text": [
            "Cliente con el mayor precio:\n",
            "Row(SEGMENTO=13079, SUCURSAL='E535', RUBRO='C5 ', FAMILIA=5, SUBFAMILIA=11, PRODUCTO=None, JERARQUIA=2, MARGEN=0.9989324223337248, MARGEN_PRE_APRO=0.9780354404971202)\n",
            "RUT_CLI del cliente con el mayor precio:\n",
            "66666666\n"
          ]
        }
      ]
    },
    {
      "cell_type": "code",
      "source": [
        "## Punto 6\n",
        "\n",
        "# Calcular el margen promedio por sucursal en df_pri\n",
        "margen_promedio_por_sucursal = df_pri.groupBy(\"SUCURSAL\").agg(avg(\"MARGEN\").alias(\"MARGEN_PROMEDIO\"))\n",
        "\n",
        "# Encontrar la sucursal con el mayor margen promedio\n",
        "sucursal_max_margen = margen_promedio_por_sucursal.orderBy(\"MARGEN_PROMEDIO\", ascending=False).first()\n",
        "\n",
        "# Encontrar la sucursal con el menor margen promedio\n",
        "sucursal_min_margen = margen_promedio_por_sucursal.orderBy(\"MARGEN_PROMEDIO\").first()\n",
        "\n",
        "# Mostrar resultados\n",
        "print(\"Sucursal con el mayor margen promedio:\")\n",
        "print(sucursal_max_margen)\n",
        "\n",
        "print(\"\\nSucursal con el menor margen promedio:\")\n",
        "print(sucursal_min_margen)"
      ],
      "metadata": {
        "colab": {
          "base_uri": "https://localhost:8080/"
        },
        "id": "kAKJg3dTqWrJ",
        "outputId": "47991b5c-79fc-44b4-ba24-377d610ea332"
      },
      "execution_count": 7,
      "outputs": [
        {
          "output_type": "stream",
          "name": "stdout",
          "text": [
            "Sucursal con el mayor margen promedio:\n",
            "Row(SUCURSAL='E550', MARGEN_PROMEDIO=0.3260823808111714)\n",
            "\n",
            "Sucursal con el menor margen promedio:\n",
            "Row(SUCURSAL='E576', MARGEN_PROMEDIO=0.2753196305799647)\n"
          ]
        }
      ]
    },
    {
      "cell_type": "code",
      "source": [
        "# Imprimir el esquema del DataFrame df_pri y df_seg\n",
        "# df_pri.printSchema()\n",
        "# df_seg.printSchema()\n",
        "df_pri.show()\n",
        "df_seg.show()"
      ],
      "metadata": {
        "id": "hxl0WYTlhTXJ",
        "colab": {
          "base_uri": "https://localhost:8080/"
        },
        "outputId": "50c678c6-ff71-4f08-8695-94ec81e91ff1"
      },
      "execution_count": 22,
      "outputs": [
        {
          "output_type": "stream",
          "name": "stdout",
          "text": [
            "+--------+--------+-----+-------+----------+--------+---------+------------------+------------------+\n",
            "|SEGMENTO|SUCURSAL|RUBRO|FAMILIA|SUBFAMILIA|PRODUCTO|JERARQUIA|            MARGEN|   MARGEN_PRE_APRO|\n",
            "+--------+--------+-----+-------+----------+--------+---------+------------------+------------------+\n",
            "|   31820|    E523|  I4 |     13|         2|    NULL|        2|0.3489893009708009|0.2990265662307124|\n",
            "|   31820|    E523|  I5 |     13|         2|    NULL|        2| 0.374112013931368|0.3388983988296916|\n",
            "|   31820|    E523|  O4 |     13|         2|    NULL|        2| 0.376833211102885|0.3505669123706935|\n",
            "|   31821|    E523|  C7 |     13|         2|    NULL|        2|0.3707050035558116| 0.352306428211865|\n",
            "|   31822|    E523|  I3 |     13|         2|    NULL|        2|0.2661791631184857|0.2626256817124447|\n",
            "|   31823|    E523|  C6 |     13|         2|    NULL|        2| 0.266063059646467|0.2626256817124447|\n",
            "|   31823|    E523|  I2 |     13|         2|    NULL|        2|0.2665880721155131|0.2642198279605811|\n",
            "|   31823|    E523|  O4 |     13|         2|    NULL|        2|0.2658191472178421|0.2620791237165245|\n",
            "|   31824|    E523|  C1 |     13|         2|    NULL|        2|0.2809842396058863|0.2724654839039785|\n",
            "|   31824|    E523|  C6 |     13|         2|    NULL|        2|0.2846878882375668|0.2703549640453937|\n",
            "|   31824|    E523|  I2 |     13|         2|    NULL|        2|0.2955557146424776| 0.279611329181209|\n",
            "|   31824|    E523|  I3 |     13|         2|    NULL|        2|0.2824607810957887|0.2716124936843314|\n",
            "|   31824|    E523|  O1 |     13|         2|    NULL|        2|0.2798541701924145|0.2688151596000357|\n",
            "|   31825|    E523|  C1 |     13|         2|    NULL|        2|0.3459302671235401|0.3155357346224977|\n",
            "|   31825|    E523|  C3 |     13|         2|    NULL|        2|0.3526062590347942|0.3142136633775472|\n",
            "|   31825|    E523|  I2 |     13|         2|    NULL|        2|0.3554563058983215|0.3300441410788191|\n",
            "|   31825|    E523|  O4 |     13|         2|    NULL|        2|0.3417241108284075|0.3048962243153775|\n",
            "|   31826|    E523|  C4 |     13|         2|    NULL|        2|0.3705621896489527|0.3518553472132967|\n",
            "|   31827|    E523|  C1 |     13|         2|    NULL|        2|0.3882755551884052|0.3615191917933935|\n",
            "|   31827|    E523|  C5 |     13|         2|    NULL|        2|0.3944090710433285|0.3592332136140944|\n",
            "+--------+--------+-----+-------+----------+--------+---------+------------------+------------------+\n",
            "only showing top 20 rows\n",
            "\n",
            "+--------+--------+--------------+--------------+--------------+---------------+---------+---------------+\n",
            "| RUT_CLI|SEGMENTO|SUB_SEGMENTO_1|SUB_SEGMENTO_2|SUB_SEGMENTO_3|VALOR_JERARQUIA|JERARQUIA|SEGMENTO_string|\n",
            "+--------+--------+--------------+--------------+--------------+---------------+---------+---------------+\n",
            "|25501902|   31833|           0.0|           0.0|           3.0|           5-10|        2|     0-0-3-p90+|\n",
            "|77447639|   31844|           0.0|           0.0|           5.0|           5-10|        2|      0-0-5-p90|\n",
            "|10935354|   51716|           3.0|           0.0|           3.0|           5-15|        2|       3-0-p90+|\n",
            "|76956256|   31820|           0.0|           0.0|           1.0|           5-19|        2|      0-0-1-p90|\n",
            "|76131545|   31825|           0.0|           0.0|           2.0|           5-21|        2|      0-0-2-p70|\n",
            "|77310489|   31832|           0.0|           0.0|           3.0|           5-10|        2|      0-0-3-p90|\n",
            "|76660860|   31844|           0.0|           0.0|           5.0|           5-21|        2|      0-0-5-p90|\n",
            "|77032139|   31833|           0.0|           0.0|           3.0|           5-18|        2|     0-0-3-p90+|\n",
            "|77283070|   31830|           0.0|           0.0|           3.0|           5-12|        2|      0-0-3-p50|\n",
            "|12448703|   51716|           3.0|           0.0|           3.0|           5-15|        2|       3-0-p90+|\n",
            "|76608578|   51716|           3.0|           0.0|           4.0|           5-15|        2|       3-0-p90+|\n",
            "|76280854|   31844|           0.0|           0.0|           5.0|           5-10|        2|      0-0-5-p90|\n",
            "|76963495|   31844|           0.0|           0.0|           5.0|           5-10|        2|      0-0-5-p90|\n",
            "|76920315|   42942|           2.0|           0.0|           2.0|           5-17|        2|        2-0-p10|\n",
            "|76463958|   31832|           0.0|           0.0|           3.0|           5-10|        2|      0-0-3-p90|\n",
            "|77513021|   31832|           0.0|           0.0|           3.0|           5-10|        2|      0-0-3-p90|\n",
            "|77017212|   31831|           0.0|           0.0|           3.0|           5-22|        2|      0-0-3-p70|\n",
            "| 8015949|   31844|           0.0|           0.0|           5.0|           5-21|        2|      0-0-5-p90|\n",
            "|76989789|   31844|           0.0|           0.0|           5.0|           5-21|        2|      0-0-5-p90|\n",
            "|76660730|   31820|           0.0|           0.0|           1.0|           5-19|        2|      0-0-1-p90|\n",
            "+--------+--------+--------------+--------------+--------------+---------------+---------+---------------+\n",
            "only showing top 20 rows\n",
            "\n"
          ]
        }
      ]
    }
  ]
}