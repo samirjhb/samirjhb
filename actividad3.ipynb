{
  "nbformat": 4,
  "nbformat_minor": 0,
  "metadata": {
    "colab": {
      "provenance": [],
      "authorship_tag": "ABX9TyNV830XgmSYOXMpPByFT1QH",
      "include_colab_link": true
    },
    "kernelspec": {
      "name": "python3",
      "display_name": "Python 3"
    },
    "language_info": {
      "name": "python"
    }
  },
  "cells": [
    {
      "cell_type": "markdown",
      "metadata": {
        "id": "view-in-github",
        "colab_type": "text"
      },
      "source": [
        "<a href=\"https://colab.research.google.com/github/samirjhb/samirjhb/blob/main/actividad3.ipynb\" target=\"_parent\"><img src=\"https://colab.research.google.com/assets/colab-badge.svg\" alt=\"Open In Colab\"/></a>"
      ]
    },
    {
      "cell_type": "code",
      "execution_count": null,
      "metadata": {
        "id": "-YNCW895opr6"
      },
      "outputs": [],
      "source": [
        "%%capture\n",
        "!pip install pyspark\n",
        "!pip install pyarrow"
      ]
    },
    {
      "cell_type": "code",
      "source": [
        "import pyspark\n",
        "sc =  pyspark.SparkContext(master=\"local[*]\", appName=\"ejemploRDD\")"
      ],
      "metadata": {
        "id": "tk_uTMntormX"
      },
      "execution_count": null,
      "outputs": []
    },
    {
      "cell_type": "code",
      "source": [
        "from operator import add\n",
        "data=list(range(100000))\n",
        "rdd=sc.parallelize(data,2)\n",
        "rdd.reduce(add)"
      ],
      "metadata": {
        "colab": {
          "base_uri": "https://localhost:8080/"
        },
        "id": "pTiDLdRLpAkK",
        "outputId": "a8575b32-612f-4a9b-f46f-a2cc1800c4f0"
      },
      "execution_count": null,
      "outputs": [
        {
          "output_type": "execute_result",
          "data": {
            "text/plain": [
              "4999950000"
            ]
          },
          "metadata": {},
          "execution_count": 4
        }
      ]
    },
    {
      "cell_type": "code",
      "source": [
        "import time\n",
        "start=time.time()\n",
        "\n",
        "from operator import add\n",
        "data=list(range(100000))\n",
        "rdd=sc.parallelize(data,100)\n",
        "r=rdd.reduce(add)\n",
        "\n",
        "end=time.time()\n",
        "print(\"resultado: \"+str(r) +\" tiempo: \"+str(end-start))"
      ],
      "metadata": {
        "colab": {
          "base_uri": "https://localhost:8080/"
        },
        "id": "JBiTZx4BpkVm",
        "outputId": "e2429125-5687-403e-fdab-e98452a7d907"
      },
      "execution_count": null,
      "outputs": [
        {
          "output_type": "stream",
          "name": "stdout",
          "text": [
            "resultado: 4999950000tiempo: 16.841546773910522\n"
          ]
        }
      ]
    },
    {
      "cell_type": "code",
      "source": [
        "import time\n",
        "start=time.time()\n",
        "\n",
        "from operator import add\n",
        "data=list(range(100000))\n",
        "rdd=sc.parallelize(data,100)\n",
        "rdd.repartition(10)\n",
        "r=rdd.reduce(add)\n",
        "\n",
        "end=time.time()\n",
        "print(\"resultado: \"+ str(r) + \" tiempo: \"+str(end-start))"
      ],
      "metadata": {
        "colab": {
          "base_uri": "https://localhost:8080/"
        },
        "id": "p4WimDQmu2yp",
        "outputId": "3900aa02-23cf-409f-e58f-d6bec940a95c"
      },
      "execution_count": null,
      "outputs": [
        {
          "output_type": "stream",
          "name": "stdout",
          "text": [
            "resultado: 4999950000tiempo: 15.269330263137817\n"
          ]
        }
      ]
    },
    {
      "cell_type": "code",
      "source": [
        "import time\n",
        "start=time.time()\n",
        "\n",
        "from operator import add\n",
        "data=list(range(100000))\n",
        "rdd=sc.parallelize(data,10)\n",
        "r=rdd.reduce(add)\n",
        "\n",
        "end=time.time()\n",
        "print(\"resultado: \"+ str(r) + \" tiempo: \"+str(end-start))"
      ],
      "metadata": {
        "colab": {
          "base_uri": "https://localhost:8080/"
        },
        "id": "2p9MH3SgvYtn",
        "outputId": "1c2f0036-1f04-4565-bf51-c29ecd936e74"
      },
      "execution_count": null,
      "outputs": [
        {
          "output_type": "stream",
          "name": "stdout",
          "text": [
            "resultado: 4999950000 tiempo: 1.4127354621887207\n"
          ]
        }
      ]
    },
    {
      "cell_type": "code",
      "source": [
        "import time\n",
        "start=time.time()\n",
        "\n",
        "from operator import add\n",
        "data=list(range(100000))\n",
        "rdd=sc.parallelize(data,100)\n",
        "rdd=rdd.coalesce(10)\n",
        "r=rdd.reduce(add)\n",
        "\n",
        "end=time.time()\n",
        "print(\"resultado: \"+ str(r) + \" tiempo: \"+str(end-start))"
      ],
      "metadata": {
        "colab": {
          "base_uri": "https://localhost:8080/"
        },
        "id": "wf7eaPFzvsGJ",
        "outputId": "ddc83d2f-cb1a-4f46-f9a5-dded10c6e274"
      },
      "execution_count": null,
      "outputs": [
        {
          "output_type": "stream",
          "name": "stdout",
          "text": [
            "resultado: 4999950000 tiempo: 2.484745740890503\n"
          ]
        }
      ]
    },
    {
      "cell_type": "code",
      "source": [
        "## Configurar excecutor\n",
        "\n",
        "from pyspark.sql import SparkSession\n",
        "from pyspark import SparkConf\n",
        "conf = SparkConf().setAppName(\"app\").setMaster(\"yarn\").set(\"spark.excutor.instances\", \"5\")\n",
        "spark=SparkSession.builder.config(conf=conf).getOrCreate()\n",
        "datos=[(\"A\",10),\n",
        "       (\"B\",11),\n",
        "       (\"A\",2),\n",
        "       (\"B\",5),\n",
        "       (\"C\",7),\n",
        "       (\"C\",10),\n",
        "       (\"C\",2),\n",
        "       (\"A\",1),]\n",
        "\n",
        "columnas=[\"key\", \"value\"]\n",
        "df=spark.createDataFrame(datos, columnas)\n",
        "r  = df.groupBy(\"key\").sum(\"value\")\n",
        "r.show()"
      ],
      "metadata": {
        "colab": {
          "base_uri": "https://localhost:8080/"
        },
        "id": "pz2bczuSwjM3",
        "outputId": "ec128f7b-7809-4ef4-a680-9ff3c5cf6dc9"
      },
      "execution_count": null,
      "outputs": [
        {
          "output_type": "stream",
          "name": "stdout",
          "text": [
            "+---+----------+\n",
            "|key|sum(value)|\n",
            "+---+----------+\n",
            "|  B|        16|\n",
            "|  A|        13|\n",
            "|  C|        19|\n",
            "+---+----------+\n",
            "\n"
          ]
        }
      ]
    },
    {
      "cell_type": "code",
      "source": [
        "\n",
        "import time\n",
        "start=time.time()\n",
        "## Configurar excecutor\n",
        "from pyspark.sql import SparkSession\n",
        "from pyspark import SparkConf\n",
        "conf = SparkConf().setAppName(\"app\").setMaster(\"yarn\").set(\"spark.excutor.instances\", \"5\")\n",
        "spark=SparkSession.builder.config(conf=conf).getOrCreate()\n",
        "datos=[(\"A\",10),\n",
        "       (\"B\",11),\n",
        "       (\"A\",2),\n",
        "       (\"B\",5),\n",
        "       (\"C\",7),\n",
        "       (\"C\",10),\n",
        "       (\"C\",2),\n",
        "       (\"A\",1),]\n",
        "\n",
        "columnas=[\"key\", \"value\"]\n",
        "df=spark.createDataFrame(datos, columnas)\n",
        "r  = df.groupBy(\"key\").sum(\"value\")\n",
        "r.show()\n",
        "end=time.time()\n",
        "print(\"resultado: \"+ str(r) + \" tiempo: \"+str(end-start))"
      ],
      "metadata": {
        "colab": {
          "base_uri": "https://localhost:8080/"
        },
        "id": "duysxS8yzYH7",
        "outputId": "1b940560-7d8e-481a-8454-73b19aa8fa44"
      },
      "execution_count": null,
      "outputs": [
        {
          "output_type": "stream",
          "name": "stdout",
          "text": [
            "+---+----------+\n",
            "|key|sum(value)|\n",
            "+---+----------+\n",
            "|  B|        16|\n",
            "|  A|        13|\n",
            "|  C|        19|\n",
            "+---+----------+\n",
            "\n",
            "resultado: DataFrame[key: string, sum(value): bigint] tiempo: 1.82781982421875\n"
          ]
        }
      ]
    },
    {
      "cell_type": "code",
      "source": [
        "## Configurar excecutor\n",
        "\n",
        "from pyspark.sql import SparkSession\n",
        "from pyspark import SparkConf\n",
        "conf = SparkConf().setAppName(\"app\").setMaster(\"yarn\").set(\"spark.excutor.instances\", \"5\")\n",
        "spark=SparkSession.builder.config(conf=conf).getOrCreate()\n",
        "datos=[(\"A\",10),\n",
        "       (\"B\",11),\n",
        "       (\"A\",2),\n",
        "       (\"B\",5),\n",
        "       (\"C\",7),\n",
        "       (\"C\",10),\n",
        "       (\"C\",2),\n",
        "       (\"A\",1),]\n",
        "\n",
        "columnas=[\"key\", \"value\"]\n",
        "df=spark.createDataFrame(datos, columnas)\n",
        "df.rdd.reduceByKey(add).collect()"
      ],
      "metadata": {
        "colab": {
          "base_uri": "https://localhost:8080/"
        },
        "id": "j_o8yIPKzIBk",
        "outputId": "40a4371c-f48a-4c35-dc83-f2756b5d8a96"
      },
      "execution_count": null,
      "outputs": [
        {
          "output_type": "execute_result",
          "data": {
            "text/plain": [
              "[('C', 19), ('A', 13), ('B', 16)]"
            ]
          },
          "metadata": {},
          "execution_count": 14
        }
      ]
    },
    {
      "cell_type": "code",
      "source": [
        "import time\n",
        "start=time.time()\n",
        "## Configurar excecutor\n",
        "from pyspark.sql import SparkSession\n",
        "from pyspark import SparkConf\n",
        "conf = SparkConf().setAppName(\"app\").setMaster(\"yarn\").set(\"spark.excutor.instances\", \"5\")\n",
        "spark=SparkSession.builder.config(conf=conf).getOrCreate()\n",
        "datos=[(\"A\",10),\n",
        "       (\"B\",11),\n",
        "       (\"A\",2),\n",
        "       (\"B\",5),\n",
        "       (\"C\",7),\n",
        "       (\"C\",10),\n",
        "       (\"C\",2),\n",
        "       (\"A\",1),]\n",
        "\n",
        "columnas=[\"key\", \"value\"]\n",
        "df=spark.createDataFrame(datos, columnas)\n",
        "df.rdd.reduceByKey(add).collect()\n",
        "end=time.time()\n",
        "print(\"resultado: \"+ str(r) + \" tiempo: \"+str(end-start))"
      ],
      "metadata": {
        "colab": {
          "base_uri": "https://localhost:8080/"
        },
        "id": "GpMW1pSqzyLi",
        "outputId": "adfb1604-9aac-4020-9eb8-032148eb36ac"
      },
      "execution_count": null,
      "outputs": [
        {
          "output_type": "stream",
          "name": "stdout",
          "text": [
            "resultado: DataFrame[key: string, sum(value): bigint] tiempo: 2.337556838989258\n"
          ]
        }
      ]
    },
    {
      "cell_type": "code",
      "source": [
        "import random\n",
        "caracteres_predefinidos = \"ABC\"\n",
        "n= [1, 2, 3, 4, 5, 6, 7, 8, 9, 10]\n",
        "longitud_lista = 10000\n",
        "l1 = [random.choice(caracteres_predefinidos) for _ in range(longitud_lista)]\n",
        "l2 = [random.choice(caracteres_predefinidos) for _ in range(longitud_lista)]\n",
        "l3 = [random.choice(n) for _ in range(longitud_lista)]\n",
        "datos=list(zip(l1,l2,l3))\n",
        "columnas=[\"key1\",\"key2\",\"value\"]"
      ],
      "metadata": {
        "id": "8qSUxgCk4JG4"
      },
      "execution_count": null,
      "outputs": []
    },
    {
      "cell_type": "code",
      "source": [
        "df=spark.createDataFrame(datos,columnas)\n",
        "df.show()"
      ],
      "metadata": {
        "colab": {
          "base_uri": "https://localhost:8080/"
        },
        "id": "qnop77Zi4wvR",
        "outputId": "9e65fde8-03c5-43e5-aa22-6992443a8717"
      },
      "execution_count": null,
      "outputs": [
        {
          "output_type": "stream",
          "name": "stdout",
          "text": [
            "+----+----+-----+\n",
            "|key1|key2|value|\n",
            "+----+----+-----+\n",
            "|   A|   A|    7|\n",
            "|   C|   B|    5|\n",
            "|   C|   A|    8|\n",
            "|   A|   B|    7|\n",
            "|   A|   A|    6|\n",
            "|   C|   C|    1|\n",
            "|   C|   C|    5|\n",
            "|   A|   B|    2|\n",
            "|   B|   A|    8|\n",
            "|   B|   B|   10|\n",
            "|   C|   C|    7|\n",
            "|   A|   A|    2|\n",
            "|   C|   C|    6|\n",
            "|   B|   C|    8|\n",
            "|   B|   A|   10|\n",
            "|   C|   A|    5|\n",
            "|   A|   B|    4|\n",
            "|   A|   C|    2|\n",
            "|   C|   C|    1|\n",
            "|   B|   B|    6|\n",
            "+----+----+-----+\n",
            "only showing top 20 rows\n",
            "\n"
          ]
        }
      ]
    },
    {
      "cell_type": "code",
      "source": [
        "df2=df.rdd.map(lambda x :(x[1], x[2])).collect()\n",
        "columnas=[\"key\", \"value\"]\n",
        "df2=spark.createDataFrame(df2, columnas)\n",
        "df2.persist()"
      ],
      "metadata": {
        "colab": {
          "base_uri": "https://localhost:8080/"
        },
        "id": "QxtwOUcM5I1C",
        "outputId": "bf8a0f29-6376-4dbb-91c6-0f756d5b5490"
      },
      "execution_count": null,
      "outputs": [
        {
          "output_type": "execute_result",
          "data": {
            "text/plain": [
              "DataFrame[key: string, value: bigint]"
            ]
          },
          "metadata": {},
          "execution_count": 54
        }
      ]
    },
    {
      "cell_type": "code",
      "source": [
        "from pyspark.sql.functions import broadcast\n",
        "df2=df.rdd.map(lambda x :(x[0]+x[1], x[2])).collect()\n",
        "columnas=[\"key\",\"value\"]\n",
        "df2=spark.createDataFrame(df2,columnas)\n",
        "df2=df2.persist()\n",
        "df3=[(\"AB\",2),(\"AC\",4)]\n",
        "df3=spark.createDataFrame(df3,columnas)\n",
        "df2.join(broadcast(df3),'key').show()"
      ],
      "metadata": {
        "colab": {
          "base_uri": "https://localhost:8080/"
        },
        "id": "EvNJMzLq9OIY",
        "outputId": "71e34d7f-8c02-4692-ad04-bd159b6e6fc9"
      },
      "execution_count": null,
      "outputs": [
        {
          "output_type": "stream",
          "name": "stdout",
          "text": [
            "+---+-----+-----+\n",
            "|key|value|value|\n",
            "+---+-----+-----+\n",
            "| AB|    7|    2|\n",
            "| AB|    2|    2|\n",
            "| AB|    4|    2|\n",
            "| AC|    2|    4|\n",
            "| AB|    4|    2|\n",
            "| AC|    6|    4|\n",
            "| AB|    9|    2|\n",
            "| AC|    9|    4|\n",
            "| AB|   10|    2|\n",
            "| AB|    7|    2|\n",
            "| AB|    8|    2|\n",
            "| AC|    5|    4|\n",
            "| AC|    5|    4|\n",
            "| AB|    1|    2|\n",
            "| AB|    5|    2|\n",
            "| AB|    3|    2|\n",
            "| AB|    3|    2|\n",
            "| AB|    8|    2|\n",
            "| AB|    5|    2|\n",
            "| AB|    9|    2|\n",
            "+---+-----+-----+\n",
            "only showing top 20 rows\n",
            "\n"
          ]
        }
      ]
    },
    {
      "cell_type": "code",
      "source": [
        "import time\n",
        "start=time.time()\n",
        "# configurar excecutor\n",
        "from pyspark.sql import SparkSession\n",
        "from pyspark import SparkConf\n",
        "conf= SparkConf().setAppName(\"app\").setMaster(\"yarn\").set(\"spark.excutor.instances\",\"5\")\n",
        "spark= SparkSession.builder.config(conf=conf).getOrCreate()\n",
        "df2.rdd.reduceByKey(add).collect()\n",
        "end =time.time()\n",
        "print(\"resultado:\"+ str(r)+\" tiempo:\"+str(end-start))"
      ],
      "metadata": {
        "colab": {
          "base_uri": "https://localhost:8080/"
        },
        "id": "nMZ99dUU4SBM",
        "outputId": "aa9ed3e0-0b52-4793-bf69-49524f67d95f"
      },
      "execution_count": null,
      "outputs": [
        {
          "output_type": "stream",
          "name": "stdout",
          "text": [
            "resultado:DataFrame[key: string, sum(value): bigint] tiempo:2.3855807781219482\n"
          ]
        }
      ]
    },
    {
      "cell_type": "code",
      "source": [
        "from google.colab import drive\n",
        "drive.mount(\"/content/gdrive\")\n",
        "gdrive='/content/gdrive/MyDrive/big data/'\n",
        "\n",
        "\n",
        "\n",
        "import random\n",
        "caracteres_predefinidos = \"ABC\"\n",
        "n= [1, 2, 3, 4, 5, 6, 7, 8, 9, 10]\n",
        "longitud_lista = 10000\n",
        "l1 = [random.choice(caracteres_predefinidos) for _ in range(longitud_lista)]\n",
        "l2 = [random.choice(n) for _ in range(longitud_lista)]\n",
        "datos=list(zip(l1,l2))\n",
        "columnas=[\"key\",\"value\"]\n",
        "df=spark.createDataFrame(datos,columnas)\n",
        "\n",
        "\n",
        "n_bucket=3\n",
        "cols_bucket=[\"key\"]\n",
        "carpeta=gdrive + \"/bucket\"\n",
        "#df.write.bucketBy(2,*cols_bucket).saveAsTable(\"tabla_bucket\", path=carpeta)\n",
        "df.write.format('csv').bucketBy(n_bucket,*cols_bucket).mode(\"overwrite\").saveAsTable(\"tabla_2\",path=carpeta)\n",
        "df_bucketed = spark.read.table(\"tabla_2\")\n",
        "df_bucketed.show()\n",
        "df_bucketed.rdd.reduceByKey(add).collect()"
      ],
      "metadata": {
        "colab": {
          "base_uri": "https://localhost:8080/"
        },
        "id": "JAabY8bDCqBQ",
        "outputId": "849382ec-0a43-48b5-d77d-6ec3d1e59ff0"
      },
      "execution_count": null,
      "outputs": [
        {
          "output_type": "stream",
          "name": "stdout",
          "text": [
            "Drive already mounted at /content/gdrive; to attempt to forcibly remount, call drive.mount(\"/content/gdrive\", force_remount=True).\n",
            "+---+-----+\n",
            "|key|value|\n",
            "+---+-----+\n",
            "|  B|    4|\n",
            "|  B|    9|\n",
            "|  B|    7|\n",
            "|  B|    7|\n",
            "|  B|    9|\n",
            "|  B|    8|\n",
            "|  B|    4|\n",
            "|  B|    8|\n",
            "|  B|   10|\n",
            "|  B|    5|\n",
            "|  B|    7|\n",
            "|  B|    3|\n",
            "|  B|    6|\n",
            "|  B|    2|\n",
            "|  B|    3|\n",
            "|  B|   10|\n",
            "|  B|    6|\n",
            "|  B|    3|\n",
            "|  B|    4|\n",
            "|  B|    5|\n",
            "+---+-----+\n",
            "only showing top 20 rows\n",
            "\n"
          ]
        },
        {
          "output_type": "execute_result",
          "data": {
            "text/plain": [
              "[('C', 18570), ('B', 18272), ('A', 18625)]"
            ]
          },
          "metadata": {},
          "execution_count": 64
        }
      ]
    },
    {
      "cell_type": "code",
      "source": [
        "import time\n",
        "start=time.time()\n",
        "df_bucketed.rdd.reduceByKey(add).collect()\n",
        "end =time.time()\n",
        "print(\"resultado:\"+ str(r)+\" tiempo:\"+str(end-start))\n",
        "\n",
        "start=time.time()\n",
        "df\n",
        "end =time.time()\n",
        "print(\"resultado:\"+ str(r)+\" tiempo:\"+str(end-start))"
      ],
      "metadata": {
        "id": "uEbt1vhzIBR3",
        "outputId": "8cc94a22-d2b5-4517-d9ab-0a2786809bec",
        "colab": {
          "base_uri": "https://localhost:8080/"
        }
      },
      "execution_count": null,
      "outputs": [
        {
          "output_type": "stream",
          "name": "stdout",
          "text": [
            "resultado:DataFrame[key: string, sum(value): bigint] tiempo:1.0770611763000488\n",
            "resultado:DataFrame[key: string, sum(value): bigint] tiempo:8.702278137207031e-05\n"
          ]
        }
      ]
    },
    {
      "cell_type": "code",
      "source": [
        "df.show()"
      ],
      "metadata": {
        "colab": {
          "base_uri": "https://localhost:8080/"
        },
        "id": "vP09P3YQDADm",
        "outputId": "65d07104-6235-4766-f58a-87a9ca5dad2f"
      },
      "execution_count": null,
      "outputs": [
        {
          "output_type": "stream",
          "name": "stdout",
          "text": [
            "+----+-----+\n",
            "|key1|value|\n",
            "+----+-----+\n",
            "|   C|   10|\n",
            "|   B|    1|\n",
            "|   B|    2|\n",
            "|   A|    3|\n",
            "|   C|    5|\n",
            "|   B|    9|\n",
            "|   A|    9|\n",
            "|   A|    1|\n",
            "|   B|    7|\n",
            "|   B|    3|\n",
            "|   C|    9|\n",
            "|   A|    1|\n",
            "|   C|    8|\n",
            "|   C|   10|\n",
            "|   B|    7|\n",
            "|   C|    8|\n",
            "|   C|    9|\n",
            "|   B|    7|\n",
            "|   C|    8|\n",
            "|   A|    9|\n",
            "+----+-----+\n",
            "only showing top 20 rows\n",
            "\n"
          ]
        }
      ]
    }
  ]
}