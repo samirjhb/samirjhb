{
  "cells": [
    {
      "cell_type": "markdown",
      "metadata": {
        "id": "view-in-github",
        "colab_type": "text"
      },
      "source": [
        "<a href=\"https://colab.research.google.com/github/samirjhb/samirjhb/blob/main/geomovilidad.ipynb\" target=\"_parent\"><img src=\"https://colab.research.google.com/assets/colab-badge.svg\" alt=\"Open In Colab\"/></a>"
      ]
    },
    {
      "cell_type": "code",
      "execution_count": null,
      "metadata": {
        "colab": {
          "base_uri": "https://localhost:8080/"
        },
        "id": "JP_QfW_pQpf7",
        "outputId": "4837510a-9914-45c2-edf5-a60fdc42c487"
      },
      "outputs": [
        {
          "name": "stdout",
          "output_type": "stream",
          "text": [
            "Mounted at /content/gdrive\n"
          ]
        }
      ],
      "source": [
        "from google.colab import drive\n",
        "drive.mount(\"/content/gdrive\")\n",
        "gdrive='/content/gdrive/MyDrive/Classroom/BIG DATA'"
      ]
    },
    {
      "cell_type": "code",
      "execution_count": null,
      "metadata": {
        "id": "tIhsrEpWSr8o"
      },
      "outputs": [],
      "source": [
        "%%capture\n",
        "!pip install pyspark\n",
        "!pip install pyarrow\n"
      ]
    },
    {
      "cell_type": "code",
      "execution_count": null,
      "metadata": {
        "colab": {
          "background_save": true
        },
        "id": "tw4B_c10RwKo"
      },
      "outputs": [],
      "source": [
        "from pyspark.sql import SparkSession\n",
        "spark=SparkSession.builder.master(\"local[*]\")\\\n",
        "      .appName(\"quadrant\").getOrCreate()"
      ]
    },
    {
      "cell_type": "code",
      "execution_count": null,
      "metadata": {
        "id": "mbUEV0TaSwVM"
      },
      "outputs": [],
      "source": [
        "QD_df=gdrive+'/5a66484a-d842-47a7-8527-f755e39b4a6e.csv'\n",
        "df_QD=spark.read.csv(QD_df,inferSchema=True,sep=\",\",header=True)\n",
        "df_QD.createOrReplaceTempView('df_QD')"
      ]
    },
    {
      "cell_type": "code",
      "execution_count": null,
      "metadata": {
        "id": "NSEQHYWYZPQ2"
      },
      "outputs": [],
      "source": [
        "!mkdir streaming\n"
      ]
    },
    {
      "cell_type": "code",
      "execution_count": null,
      "metadata": {
        "id": "9j_EPfKffLqT"
      },
      "outputs": [],
      "source": [
        "query=spark.sql('select device_id,count(*) \\\n",
        "from df_QD group by device_id order \\\n",
        "by count(*) desc limit 100' )\n",
        "id=query.toPandas().device_id[1]\n",
        "df_id=spark.sql('''select latitude,longitude,timestamp \\\n",
        "from df_QD where device_id='$id' '''.replace('$id',id)).toPandas()\n",
        "df_id=df_id.sort_values('timestamp')\n",
        "df_id.to_csv('data_qd.csv')"
      ]
    },
    {
      "cell_type": "code",
      "execution_count": null,
      "metadata": {
        "id": "eSR1phQ-Tcgw"
      },
      "outputs": [],
      "source": [
        "%%python --bg\n",
        "import time\n",
        "import numpy as np\n",
        "import pandas as pd\n",
        "df_id=pd.read_csv('data_qd.csv')\n",
        "for n in range(0,int(len(df_id)/200)):\n",
        "     df_id.iloc[n*200:((n+1)*200)-1]\\\n",
        "     .to_csv('/content/streaming/data'+str(n)+'.csv',index=False)\n",
        "     time.sleep(5)"
      ]
    },
    {
      "cell_type": "code",
      "execution_count": null,
      "metadata": {
        "id": "tvqEvpBqWIKl"
      },
      "outputs": [],
      "source": [
        "from pyspark.sql import SparkSession\n",
        "spark=SparkSession.builder\\\n",
        "      .master('local')\\\n",
        "      .appName('QD_streaming')\\\n",
        "      .config('spark.ui.port',4050).getOrCreate()\n",
        "#####\n",
        "from pyspark.sql.types import *\n",
        "schema=StructType([StructField('id',StringType(),True),\n",
        "                   StructField('latitude',StringType(),True),\n",
        "                   StructField('longitude',StringType(),True),\n",
        "                   StructField('timestamp',StringType(),True),])\n",
        "df=spark.readStream\\\n",
        "  .format('csv').schema(schema)\\\n",
        "  .option('header',True).load('streaming')\n",
        "\n",
        "query=df.writeStream.outputMode('update')\\\n",
        "      .queryName('tabla')\\\n",
        "      .format('memory')\\\n",
        "      .start()\n",
        "\n"
      ]
    },
    {
      "cell_type": "code",
      "execution_count": null,
      "metadata": {
        "id": "YYxaeCIpgrVJ"
      },
      "outputs": [],
      "source": [
        "spark.stop()"
      ]
    },
    {
      "cell_type": "code",
      "execution_count": null,
      "metadata": {
        "id": "t3gXaMSrcyei"
      },
      "outputs": [],
      "source": [
        "data=[]\n",
        "for i in range(0,100):\n",
        "      data.append(spark.sql(\"select latitude,longitude,timestamp from tabla order by timestamp desc limit 1\")\\\n",
        "      .toPandas().values[0].tolist())"
      ]
    },
    {
      "cell_type": "code",
      "execution_count": null,
      "metadata": {
        "id": "NhAwa4qzhleG"
      },
      "outputs": [],
      "source": [
        "data"
      ]
    }
  ],
  "metadata": {
    "colab": {
      "provenance": [],
      "include_colab_link": true
    },
    "kernelspec": {
      "display_name": "Python 3",
      "name": "python3"
    },
    "language_info": {
      "name": "python"
    }
  },
  "nbformat": 4,
  "nbformat_minor": 0
}