{
  "nbformat": 4,
  "nbformat_minor": 0,
  "metadata": {
    "colab": {
      "provenance": [],
      "authorship_tag": "ABX9TyPc0ndCemnXwwiHfvqDWwWB",
      "include_colab_link": true
    },
    "kernelspec": {
      "name": "python3",
      "display_name": "Python 3"
    },
    "language_info": {
      "name": "python"
    }
  },
  "cells": [
    {
      "cell_type": "markdown",
      "metadata": {
        "id": "view-in-github",
        "colab_type": "text"
      },
      "source": [
        "<a href=\"https://colab.research.google.com/github/samirjhb/samirjhb/blob/main/clase06.ipynb\" target=\"_parent\"><img src=\"https://colab.research.google.com/assets/colab-badge.svg\" alt=\"Open In Colab\"/></a>"
      ]
    },
    {
      "cell_type": "code",
      "source": [
        "!mkdir streaming"
      ],
      "metadata": {
        "id": "JpixZbQY1pP4"
      },
      "execution_count": 1,
      "outputs": []
    },
    {
      "cell_type": "code",
      "execution_count": 8,
      "metadata": {
        "id": "oOKLwEzPlQrW"
      },
      "outputs": [],
      "source": [
        "%%python --bg\n",
        "import time\n",
        "import pandas as pd\n",
        "import numpy as np\n",
        "\n",
        "\n",
        "\n",
        "def aleatorio():\n",
        "  return int(99*np.random.normal(0, 0.1)+1)\n",
        "\n",
        "for n in range(0,200):\n",
        "  pd.DataFrame(np.asarray([aleatorio()for i in range(0,100)])\\\n",
        "               .reshape(-1, 1), columns=['dato'])\\\n",
        "               .to_csv('/content/streaming/data'+str(n)+'.csv', index=False)\n",
        "\n",
        "  time.sleep(5)"
      ]
    },
    {
      "cell_type": "code",
      "source": [
        "%%capture\n",
        "!pip install pyspark\n",
        "!pip install pyarrow"
      ],
      "metadata": {
        "id": "kU4E2ugYB88t"
      },
      "execution_count": 2,
      "outputs": []
    },
    {
      "cell_type": "code",
      "source": [
        "from  pyspark.sql import  SparkSession\n",
        "spark=SparkSession.builder\\\n",
        "      .master('local')\\\n",
        "      .appName('ejemplo')\\\n",
        "      .config('spark.ui.port',4050).getOrCreate()\n",
        "\n",
        "from pyspark.sql.types import *\n",
        "schema=StructType([StructField('dato', IntegerType(), True)])\n",
        "df= spark.readStream\\\n",
        "   .format('csv').schema(schema)\\\n",
        "   .option('header', True).load('streaming')"
      ],
      "metadata": {
        "id": "M7BkYTShCVxi"
      },
      "execution_count": 28,
      "outputs": []
    },
    {
      "cell_type": "code",
      "source": [
        "## Verificar si esta funcionado\n",
        "df.isStreaming"
      ],
      "metadata": {
        "colab": {
          "base_uri": "https://localhost:8080/"
        },
        "id": "qK7iQSw7EAk6",
        "outputId": "150b0698-dc36-4f2e-d31b-f05afa712d61"
      },
      "execution_count": 15,
      "outputs": [
        {
          "output_type": "execute_result",
          "data": {
            "text/plain": [
              "True"
            ]
          },
          "metadata": {},
          "execution_count": 15
        }
      ]
    },
    {
      "cell_type": "code",
      "source": [
        "## Detener el spark\n",
        "spark.stop()"
      ],
      "metadata": {
        "id": "9z037SSrJbMK"
      },
      "execution_count": 27,
      "outputs": []
    },
    {
      "cell_type": "code",
      "source": [
        "## Procesamiento de los cambio  en memoria\n",
        "query = df.writeStream.outputMode('update')\\\n",
        "          .queryName('tabla')\\\n",
        "          .format('memory')\\\n",
        "          .start()"
      ],
      "metadata": {
        "id": "lL_-Zz40E3hj"
      },
      "execution_count": 29,
      "outputs": []
    },
    {
      "cell_type": "code",
      "source": [
        "from os import truncate\n",
        "\n",
        "## Monitoreo\n",
        "spark.sql(\"select mean(dato) from tabla\").show(truncate=False)"
      ],
      "metadata": {
        "colab": {
          "base_uri": "https://localhost:8080/"
        },
        "id": "gamWRW8jGhnO",
        "outputId": "1139bff9-128c-4177-8f9b-6d4851478ecf"
      },
      "execution_count": 33,
      "outputs": [
        {
          "output_type": "stream",
          "name": "stdout",
          "text": [
            "+----------+\n",
            "|mean(dato)|\n",
            "+----------+\n",
            "|0.94525   |\n",
            "+----------+\n",
            "\n"
          ]
        }
      ]
    },
    {
      "cell_type": "code",
      "source": [
        "## Procesamiento de los cambio  subir archivo\n",
        "result_df=df.select('*')\n",
        "query = result_df.writeStream.format('json')\\\n",
        "          .option('checkpointLocation', 'checkpoint')\\\n",
        "          .option('path', 'results')\\\n",
        "          .queryName('tabla')\\\n",
        "          .start()"
      ],
      "metadata": {
        "id": "IZhSmQl1JEGZ"
      },
      "execution_count": 36,
      "outputs": []
    },
    {
      "cell_type": "code",
      "source": [
        "## Detener el query\n",
        "query.stop()"
      ],
      "metadata": {
        "id": "HOtO4tv2MNmx"
      },
      "execution_count": 35,
      "outputs": []
    }
  ]
}